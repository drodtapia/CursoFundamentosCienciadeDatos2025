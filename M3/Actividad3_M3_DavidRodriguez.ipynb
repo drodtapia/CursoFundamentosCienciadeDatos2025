{
 "cells": [
  {
   "cell_type": "code",
   "execution_count": 1,
   "id": "05084adc",
   "metadata": {},
   "outputs": [
    {
     "name": "stdout",
     "output_type": "stream",
     "text": [
      "\n",
      "Primeras 5 filas:    ID_Venta   Producto  Cantidad  Precio  Total\n",
      "0       101     Laptop         1     800    800\n",
      "1       102    Teclado         2      30     60\n",
      "2       103      Mouse         3      15     45\n",
      "3       104    Monitor         1     200    200\n",
      "4       105  Impresora         1     150    150\n",
      "\n",
      "Columnas 'Producto' y 'Precio':\n",
      "    Producto  Precio\n",
      "0     Laptop     800\n",
      "1    Teclado      30\n",
      "2      Mouse      15\n",
      "3    Monitor     200\n",
      "4  Impresora     150\n",
      "5   Cargador      25\n",
      "\n",
      "Productos con precio mayor a 50:\n",
      "    Producto  Precio\n",
      "0     Laptop     800\n",
      "3    Monitor     200\n",
      "4  Impresora     150\n"
     ]
    }
   ],
   "source": [
    "# Librerias\n",
    "import pandas as pd\n",
    "\n",
    "####################################################################################################################################\n",
    "# Extra: Dado que no está ventas_csv se crea el archivo con los datos en el ejemplo\n",
    "\n",
    "#Datos\n",
    "datos_ventas = {\n",
    "    \"ID_Venta\": [101, 102, 103, 104, 105, 106],\n",
    "    \"Producto\": [\"Laptop\", \"Teclado\", \"Mouse\", \"Monitor\", \"Impresora\", \"Cargador\"],\n",
    "    \"Cantidad\": [1, 2, 3, 1, 1, 2],\n",
    "    \"Precio\": [800, 30, 15, 200, 150, 25],\n",
    "    \"Total\": [800, 60, 45, 200, 150, 50]\n",
    "}\n",
    "#Crear df_ventas\n",
    "df_crear_ventas = pd.DataFrame(datos_ventas)\n",
    "# Guardar datos en un csv\n",
    "df_crear_ventas.to_csv(\"ventas.csv\", index=False)\n",
    "####################################################################################################################################\n",
    "\n",
    "# 1. Cargar archivo ventas.csv (en carpeta donde esta el codigo actual)\n",
    "df_ventas = pd.read_csv(\"ventas.csv\")\n",
    "\n",
    "# 2. Mostrar pimeras 5 filas\n",
    "print(\"\\nPrimeras 5 filas:\", df_ventas.head(5))\n",
    "\n",
    "# 3. Extraer columnas: Producto y Precio\n",
    "df_extraer_columnas = df_ventas[[\"Producto\", \"Precio\"]]\n",
    "print(\"\\nColumnas 'Producto' y 'Precio':\")\n",
    "print(df_extraer_columnas)\n",
    "\n",
    "# 4. Filtrar productos precio >50\n",
    "df_filtrar_precio = df_extraer_columnas[df_extraer_columnas[\"Precio\"] > 50]\n",
    "print(\"\\nProductos con precio mayor a 50:\")\n",
    "print(df_filtrar_precio)\n",
    "\n",
    "# 5. Guardar el nuevo DataFrame filtrado como 'productos_filtrados.csv'\n",
    "df_filtrar_precio.to_csv(\"productos_filtrados.csv\", index=False)\n",
    "\n"
   ]
  }
 ],
 "metadata": {
  "kernelspec": {
   "display_name": "Python 3",
   "language": "python",
   "name": "python3"
  },
  "language_info": {
   "codemirror_mode": {
    "name": "ipython",
    "version": 3
   },
   "file_extension": ".py",
   "mimetype": "text/x-python",
   "name": "python",
   "nbconvert_exporter": "python",
   "pygments_lexer": "ipython3",
   "version": "3.12.4"
  }
 },
 "nbformat": 4,
 "nbformat_minor": 5
}
