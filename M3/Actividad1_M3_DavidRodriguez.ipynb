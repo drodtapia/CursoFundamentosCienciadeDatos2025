{
 "cells": [
  {
   "cell_type": "code",
   "execution_count": null,
   "id": "05084adc",
   "metadata": {},
   "outputs": [
    {
     "name": "stdout",
     "output_type": "stream",
     "text": [
      "\n",
      "Primeras 5 filas:    ID_Venta   Producto  Cantidad  Precio  Total\n",
      "0       101     Laptop         1     800    800\n",
      "1       102    Teclado         2      30     60\n",
      "2       103      Mouse         3      15     45\n",
      "3       104    Monitor         1     200    200\n",
      "4       105  Impresora         1     150    150\n",
      "\n",
      "Columnas 'Producto' y 'Precio':\n",
      "    Producto  Precio\n",
      "0     Laptop     800\n",
      "1    Teclado      30\n",
      "2      Mouse      15\n",
      "3    Monitor     200\n",
      "4  Impresora     150\n",
      "5   Cargador      25\n",
      "\n",
      "Productos con precio mayor a 50:\n",
      "    Producto  Precio\n",
      "0     Laptop     800\n",
      "3    Monitor     200\n",
      "4  Impresora     150\n"
     ]
    }
   ],
   "source": [
    "# 1. Librerias \n",
    "import numpy as np\n",
    "\n",
    "# 2. Vector con 10 elementos\n",
    "vector = np.arange(1, 11)\n",
    "print(\"Vector generado: \", vector)\n",
    "\n",
    "# 3. Matriz 3x3 con valores aleatorios entre 0 y 1\n",
    "matriz = np.random.rand(3, 3)\n",
    "print(\"\\n Matriz 3x3:\\n\", matriz)\n",
    "\n",
    "# 4. Matriz identidad de 4x4\n",
    "matriz_id = np.eye(4)\n",
    "print(\"\\nMatriz Identidad 4x4:\\n\", matriz_id)\n",
    "\n",
    "# 5. Redimensionar el vector original a una matriz de 2x5\n",
    "matriz_red = vector.reshape(2, 5)\n",
    "print(\"\\nVector 2x5:\\n\", matriz_red)\n",
    "\n",
    "# 6. Elementos mayores a 5 del vector original\n",
    "elementos_mayores = vector[vector > 5]\n",
    "print(\"\\nElementos mayores_a_5:\\n\", elementos_mayores)\n",
    "\n",
    "# 7. Realizar la suma de dos arreglos\n",
    "arreglo1 = np.arange(5)\n",
    "arreglo_2 = np.arange(5)\n",
    "suma_arreglos = arreglo1 + arreglo_2\n",
    "print(\"\\nSuma de dos arreglos:\\n\", suma_arreglos)\n",
    "\n",
    "# 8. Raíz cuadrada del vector original\n",
    "raiz_vector = np.sqrt(vector)\n",
    "print(\"\\nRaíz cuadrada del vector:\\n\", raiz_vector)\n"
   ]
  }
 ],
 "metadata": {
  "kernelspec": {
   "display_name": "Python 3",
   "language": "python",
   "name": "python3"
  },
  "language_info": {
   "codemirror_mode": {
    "name": "ipython",
    "version": 3
   },
   "file_extension": ".py",
   "mimetype": "text/x-python",
   "name": "python",
   "nbconvert_exporter": "python",
   "pygments_lexer": "ipython3",
   "version": "3.12.4"
  }
 },
 "nbformat": 4,
 "nbformat_minor": 5
}
