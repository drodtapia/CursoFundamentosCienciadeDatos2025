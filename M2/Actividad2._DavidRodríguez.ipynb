{
 "cells": [
  {
   "cell_type": "code",
   "execution_count": 12,
   "id": "f808394c",
   "metadata": {},
   "outputs": [],
   "source": [
    "# Variables\n",
    "\n",
    "precio_producto = 9990\n",
    "cantidad = 6\n",
    "descuento = 15  "
   ]
  },
  {
   "cell_type": "code",
   "execution_count": 13,
   "id": "d4adc845",
   "metadata": {},
   "outputs": [],
   "source": [
    "# Precio total sin descuento\n",
    "\n",
    "total_sin_descuento = precio_producto * cantidad"
   ]
  },
  {
   "cell_type": "code",
   "execution_count": 14,
   "id": "e72e4b7e",
   "metadata": {},
   "outputs": [],
   "source": [
    "# Monto de descuento\n",
    "monto_descuento = total_sin_descuento * (descuento / 100)"
   ]
  },
  {
   "cell_type": "code",
   "execution_count": 15,
   "id": "3e18e01e",
   "metadata": {},
   "outputs": [],
   "source": [
    "# Pecio total con descuento\n",
    "total_con_descuento = total_sin_descuento - monto_descuento"
   ]
  },
  {
   "cell_type": "code",
   "execution_count": 16,
   "id": "f40c148d",
   "metadata": {},
   "outputs": [
    {
     "name": "stdout",
     "output_type": "stream",
     "text": [
      "Total sin descuento:  59940\n",
      "Monto de descuento:  8991.0\n",
      "Total con descuento:  50949.0\n"
     ]
    }
   ],
   "source": [
    "# Resultados\n",
    "print(\"Total sin descuento: \", total_sin_descuento)\n",
    "print(\"Monto de descuento: \", monto_descuento)\n",
    "print(\"Total con descuento: \", total_con_descuento)"
   ]
  }
 ],
 "metadata": {
  "kernelspec": {
   "display_name": "Python 3",
   "language": "python",
   "name": "python3"
  },
  "language_info": {
   "codemirror_mode": {
    "name": "ipython",
    "version": 3
   },
   "file_extension": ".py",
   "mimetype": "text/x-python",
   "name": "python",
   "nbconvert_exporter": "python",
   "pygments_lexer": "ipython3",
   "version": "3.12.4"
  }
 },
 "nbformat": 4,
 "nbformat_minor": 5
}
