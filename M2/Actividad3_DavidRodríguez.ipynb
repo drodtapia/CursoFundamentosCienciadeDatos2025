{
 "cells": [
  {
   "cell_type": "code",
   "execution_count": 2,
   "id": "c6082370",
   "metadata": {},
   "outputs": [
    {
     "name": "stdout",
     "output_type": "stream",
     "text": [
      "j ha aprobado Física.\n",
      "e necesita mejorar en Física.\n",
      "\n",
      "Resultados finales:\n",
      "j: Excelente ¡Puntuación perfecta!\n",
      "e: Necesita mejorar\n"
     ]
    }
   ],
   "source": [
    "# Lista que almacena a los estudiantes\n",
    "lista_estudiantes = []\n",
    "\n",
    "# Bucle while para permitir entrada de varios estudiantes hasta que usuario digite salir\n",
    "while True:\n",
    "    nombre = input(\"Ingresa el nombre del estudiante (escribe 'salir' o pulsa 'Enter' para salir del programa): \")\n",
    "    if nombre.lower() == 'salir' or nombre.strip() == '':\n",
    "        break\n",
    "\n",
    "    # Solicitar las calificaciones de 3 materias\n",
    "    fisica = float(input(\"Calificación de Física: \"))\n",
    "    lenguaje = float(input(\"Calificación de lenguaje: \"))\n",
    "    quimica = float(input(\"Calificación de Química: \"))\n",
    "    \n",
    "    # Calcular el promedio de las tres asignaturas\n",
    "    promedio = (fisica + lenguaje + quimica) / 3\n",
    "    \n",
    "    # Verificar si la calificación individual es aprobatoria\n",
    "    if fisica >= 60:\n",
    "        print(f\"{nombre} ha aprobado Física.\")\n",
    "    else:\n",
    "        print(f\"{nombre} necesita mejorar en Física.\")\n",
    "    # if lenguaje >= 60:\n",
    "    #     print(f\"{nombre} ha aprobado Lenguaje.\")\n",
    "    # else:\n",
    "    #     print(f\"{nombre} necesita mejorar en Lenguaje.\")\n",
    "    # if quimica >= 60:\n",
    "    #     print(f\"{nombre} ha aprobado Química.\")\n",
    "    # else:\n",
    "    #     print(f\"{nombre} necesita mejorar en Química.\")\n",
    "    \n",
    "    # Evaluar el promedio \n",
    "    if promedio >= 90:\n",
    "        comentario = \"Excelente\"\n",
    "    elif promedio >= 75:\n",
    "        comentario = \"Bueno\"\n",
    "    else:\n",
    "        comentario = \"Necesita mejorar\"\n",
    "    \n",
    "    # Si el estudiante tiene un promedio de 100 se agrega comentario adicional\n",
    "    comentario += \" ¡Puntuación perfecta!\" if promedio == 100 else \"\"\n",
    "    \n",
    "    # Guardar los datos del estudiante\n",
    "    lista_estudiantes.append({\"nombre\": nombre, \"comentario\": comentario})\n",
    "\n",
    "# Usar un bucle for para mostrar los resultados finales\n",
    "print(\"\\nResultados finales:\")\n",
    "for estudiante in lista_estudiantes:\n",
    "    print(f\"{estudiante['nombre']}: {estudiante['comentario']}\")\n"
   ]
  }
 ],
 "metadata": {
  "kernelspec": {
   "display_name": "Python 3",
   "language": "python",
   "name": "python3"
  },
  "language_info": {
   "codemirror_mode": {
    "name": "ipython",
    "version": 3
   },
   "file_extension": ".py",
   "mimetype": "text/x-python",
   "name": "python",
   "nbconvert_exporter": "python",
   "pygments_lexer": "ipython3",
   "version": "3.12.4"
  }
 },
 "nbformat": 4,
 "nbformat_minor": 5
}
