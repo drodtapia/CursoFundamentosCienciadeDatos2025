{
 "cells": [
  {
   "cell_type": "code",
   "execution_count": 3,
   "id": "c6082370",
   "metadata": {},
   "outputs": [
    {
     "name": "stdout",
     "output_type": "stream",
     "text": [
      "Productos destacados: ['Refrigerador', 'Lampara', 'Sillon']\n",
      "El número de Planchas en stock es de:  12\n",
      "Segunda categoría:  Electrodomesticos\n",
      "Categoría 1:  Iluminacion\n",
      "Categoría 2:  Electrodomesticos\n",
      "Categoría 3:  Limpieza\n",
      "No existen elementos duplicados.\n",
      "Productos en mayúsculas: ['REFRIGERADOR', 'LAMPARA', 'SILLON', 'RADIO', 'PLANCHA', 'VENTILADOR', 'BASURERO']\n"
     ]
    }
   ],
   "source": [
    "# 1. Lista de productos\n",
    "productos = [\"Refrigerador\", \"Lampara\", \"Sillon\", \"Radio\", \"Plancha\"]\n",
    "\n",
    "# 2. Agregar 2 productos\n",
    "productos.append(\"Ventilador\")\n",
    "productos.append(\"Basurero\")\n",
    "productos_destacados = productos[:3]\n",
    "print(\"Productos destacados:\", productos_destacados)\n",
    "\n",
    "# 3. Diccionario con stock de productos\n",
    "inventario = {\n",
    "    \"Refrigerador\": 5,\n",
    "    \"Lampara\": 47,\n",
    "    \"Sillon\": 8,\n",
    "    \"Radio\": 13,\n",
    "    \"Ventilador\": 22\n",
    "}\n",
    "\n",
    "# 4. Agregar producto a dicionario y mostrar cantidad en stock (se selecciona uno de los productos iniciales)\n",
    "inventario[\"Plancha\"] = 12\n",
    "print(\"El número de Planchas en stock es de: \", inventario[\"Plancha\"])\n",
    "\n",
    "# 5. Tupla de categorías y printear segunda categoría\n",
    "categorias = (\"Iluminacion\", \"Electrodomesticos\", \"Limpieza\")\n",
    "print(\"Segunda categoría: \", categorias[1])\n",
    "\n",
    "# 6.1 Empaquetar categorías\n",
    "categoria1, categoria2, categoria3 = categorias\n",
    "# 6.2 Desempaquetar en variables individuales\n",
    "print(\"Categoría 1: \", categoria1)\n",
    "print(\"Categoría 2: \", categoria2)\n",
    "print(\"Categoría 3: \", categoria3)\n",
    "\n",
    "# 7.1 Set de la lista productos\n",
    "productos_unicos = set(productos)\n",
    "\n",
    "# 7.2 Verificar si existen duplicados\n",
    "if len(productos) != len(productos_unicos):\n",
    "    print(\"Existen elementos duplicados.\")\n",
    "else:\n",
    "    print(\"No existen elementos duplicados.\")\n",
    "\n",
    "# 8. Lista de productos en mayúsculas usando comprensión de listas\n",
    "productos_mayusculas = [producto.upper() for producto in productos]\n",
    "print(\"Productos en mayúsculas:\", productos_mayusculas)\n"
   ]
  }
 ],
 "metadata": {
  "kernelspec": {
   "display_name": "Python 3",
   "language": "python",
   "name": "python3"
  },
  "language_info": {
   "codemirror_mode": {
    "name": "ipython",
    "version": 3
   },
   "file_extension": ".py",
   "mimetype": "text/x-python",
   "name": "python",
   "nbconvert_exporter": "python",
   "pygments_lexer": "ipython3",
   "version": "3.12.4"
  }
 },
 "nbformat": 4,
 "nbformat_minor": 5
}
