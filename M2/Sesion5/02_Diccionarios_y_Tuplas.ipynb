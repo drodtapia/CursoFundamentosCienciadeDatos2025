{
 "cells": [
  {
   "cell_type": "markdown",
   "id": "c5a0d1ab",
   "metadata": {},
   "source": [
    "# Diccionarios y Tuplas – Representación Estructurada y Constante de Datos\n",
    "**Objetivo:** Comprender y aplicar diccionarios y tuplas para representar relaciones clave-valor y estructuras inmutables."
   ]
  },
  {
   "cell_type": "markdown",
   "id": "26454add",
   "metadata": {},
   "source": [
    "## ¿Qué es un diccionario?\n",
    "Un diccionario es una colección de pares clave-valor. Permite acceder a los valores usando claves únicas en lugar de índices."
   ]
  },
  {
   "cell_type": "markdown",
   "id": "2e0c6169",
   "metadata": {},
   "source": [
    "## Creación, modificación y acceso con claves"
   ]
  },
  {
   "cell_type": "code",
   "execution_count": null,
   "id": "dc1aacf9",
   "metadata": {},
   "outputs": [],
   "source": [
    "persona = {\"nombre\": \"Ana\", \"edad\": 28}\n",
    "print(\"Nombre:\", persona[\"nombre\"])\n",
    "persona[\"ciudad\"] = \"Santiago\"\n",
    "print(\"Diccionario actualizado:\", persona)"
   ]
  },
  {
   "cell_type": "markdown",
   "id": "a050af2e",
   "metadata": {},
   "source": [
    "## Métodos importantes"
   ]
  },
  {
   "cell_type": "code",
   "execution_count": null,
   "id": "6452e3fc",
   "metadata": {},
   "outputs": [],
   "source": [
    "print(\"Claves:\", persona.keys())\n",
    "print(\"Valores:\", persona.values())\n",
    "print(\"Ítems:\", list(persona.items()))\n",
    "print(\"Edad con get():\", persona.get(\"edad\"))\n",
    "persona.update({\"profesion\": \"Ingeniera\"})\n",
    "print(\"Después de update():\", persona)"
   ]
  },
  {
   "cell_type": "markdown",
   "id": "b20306e7",
   "metadata": {},
   "source": [
    "## Diccionarios anidados"
   ]
  },
  {
   "cell_type": "code",
   "execution_count": null,
   "id": "ebde34e3",
   "metadata": {},
   "outputs": [],
   "source": [
    "usuarios = {\n",
    "    \"user1\": {\"nombre\": \"Carlos\", \"edad\": 34},\n",
    "    \"user2\": {\"nombre\": \"Lucía\", \"edad\": 29}\n",
    "}\n",
    "print(\"Nombre de user2:\", usuarios[\"user2\"][\"nombre\"])"
   ]
  },
  {
   "cell_type": "markdown",
   "id": "8eb0f14e",
   "metadata": {},
   "source": [
    "## ¿Qué es una tupla?\n",
    "Una tupla es una colección ordenada e inmutable. Se define con paréntesis y no permite modificaciones tras su creación."
   ]
  },
  {
   "cell_type": "markdown",
   "id": "9123b2ba",
   "metadata": {},
   "source": [
    "## Creación y acceso por índice"
   ]
  },
  {
   "cell_type": "code",
   "execution_count": null,
   "id": "8247b468",
   "metadata": {},
   "outputs": [],
   "source": [
    "coordenada = (10.5, 20.3)\n",
    "print(\"Latitud:\", coordenada[0])\n",
    "print(\"Longitud:\", coordenada[1])"
   ]
  },
  {
   "cell_type": "markdown",
   "id": "cc1a3bd3",
   "metadata": {},
   "source": [
    "## Uso de tuplas como retorno múltiple de funciones"
   ]
  },
  {
   "cell_type": "code",
   "execution_count": null,
   "id": "64c1e23f",
   "metadata": {},
   "outputs": [],
   "source": [
    "def obtener_fecha():\n",
    "    return (2025, 6, 1)\n",
    "\n",
    "año, mes, día = obtener_fecha()\n",
    "print(f\"Fecha: {día}/{mes}/{año}\")"
   ]
  },
  {
   "cell_type": "markdown",
   "id": "fa371da8",
   "metadata": {},
   "source": [
    "## Tuplas como claves en diccionarios"
   ]
  },
  {
   "cell_type": "code",
   "execution_count": null,
   "id": "d709ef0c",
   "metadata": {},
   "outputs": [],
   "source": [
    "ubicaciones = {\n",
    "    (33.45, -70.66): \"Santiago\",\n",
    "    (40.71, -74.01): \"Nueva York\"\n",
    "}\n",
    "print(\"Ciudad en (40.71, -74.01):\", ubicaciones[(40.71, -74.01)])"
   ]
  },
  {
   "cell_type": "markdown",
   "id": "164e3639",
   "metadata": {},
   "source": [
    "## Ejercicios prácticos"
   ]
  },
  {
   "cell_type": "code",
   "execution_count": null,
   "id": "f6b5043b",
   "metadata": {},
   "outputs": [],
   "source": [
    "usuario = {\n",
    "    \"id\": 101,\n",
    "    \"nombre\": \"Marcela\",\n",
    "    \"email\": \"marcela@mail.com\",\n",
    "    \"activo\": True\n",
    "}\n",
    "print(\"Usuario:\", usuario)"
   ]
  },
  {
   "cell_type": "code",
   "execution_count": null,
   "id": "27201b6d",
   "metadata": {},
   "outputs": [],
   "source": [
    "agenda = {\n",
    "    \"Pedro\": \"+56912345678\",\n",
    "    \"Ana\": \"+56987654321\"\n",
    "}\n",
    "agenda[\"Luis\"] = \"+56911223344\"\n",
    "print(\"Agenda:\", agenda)"
   ]
  },
  {
   "cell_type": "code",
   "execution_count": null,
   "id": "22f98554",
   "metadata": {},
   "outputs": [],
   "source": [
    "lugares = {\n",
    "    (51.50, -0.12): \"Londres\",\n",
    "    (48.85, 2.35): \"París\"\n",
    "}\n",
    "for coords, ciudad in lugares.items():\n",
    "    print(f\"{ciudad} está en {coords}\")"
   ]
  }
 ],
 "metadata": {
  "language_info": {
   "name": "python"
  }
 },
 "nbformat": 4,
 "nbformat_minor": 5
}
