{
 "cells": [
  {
   "cell_type": "markdown",
   "id": "745c68d6",
   "metadata": {},
   "source": [
    "# Sets en Python – Gestión Eficiente de Colecciones Únicas\n",
    "**Objetivo:** Utilizar sets para operaciones de conjuntos y gestión de datos no duplicados."
   ]
  },
  {
   "cell_type": "markdown",
   "id": "811f8a98",
   "metadata": {},
   "source": [
    "## ¿Qué es un set?\n",
    "Un set es una colección no ordenada de elementos únicos. Es útil para eliminar duplicados y realizar operaciones de conjuntos."
   ]
  },
  {
   "cell_type": "markdown",
   "id": "2a23dd88",
   "metadata": {},
   "source": [
    "## Crear sets con `{}` y `set()`"
   ]
  },
  {
   "cell_type": "code",
   "execution_count": null,
   "id": "89ba9a56",
   "metadata": {},
   "outputs": [],
   "source": [
    "conjunto1 = {1, 2, 3, 4}\n",
    "conjunto2 = set([3, 4, 5, 6])\n",
    "print(\"Conjunto 1:\", conjunto1)\n",
    "print(\"Conjunto 2:\", conjunto2)"
   ]
  },
  {
   "cell_type": "markdown",
   "id": "a1648666",
   "metadata": {},
   "source": [
    "## Métodos principales: `add()`, `remove()`, `discard()`, `clear()`"
   ]
  },
  {
   "cell_type": "code",
   "execution_count": null,
   "id": "93d1b4fe",
   "metadata": {},
   "outputs": [],
   "source": [
    "conjunto = {1, 2, 3}\n",
    "conjunto.add(4)\n",
    "conjunto.discard(2)\n",
    "conjunto.remove(1)\n",
    "print(\"Conjunto modificado:\", conjunto)\n",
    "conjunto.clear()\n",
    "print(\"Conjunto vacío:\", conjunto)"
   ]
  },
  {
   "cell_type": "markdown",
   "id": "fb5182c9",
   "metadata": {},
   "source": [
    "## Operaciones de conjuntos"
   ]
  },
  {
   "cell_type": "code",
   "execution_count": null,
   "id": "27cf73db",
   "metadata": {},
   "outputs": [],
   "source": [
    "A = {1, 2, 3, 4}\n",
    "B = {3, 4, 5, 6}\n",
    "\n",
    "print(\"Unión:\", A.union(B))\n",
    "print(\"Intersección:\", A.intersection(B))\n",
    "print(\"Diferencia (A - B):\", A.difference(B))\n",
    "print(\"Diferencia simétrica:\", A.symmetric_difference(B))"
   ]
  },
  {
   "cell_type": "markdown",
   "id": "84735075",
   "metadata": {},
   "source": [
    "## Comparaciones entre conjuntos"
   ]
  },
  {
   "cell_type": "code",
   "execution_count": null,
   "id": "fe7c637e",
   "metadata": {},
   "outputs": [],
   "source": [
    "C = {1, 2}\n",
    "D = {1, 2, 3, 4}\n",
    "print(\"C es subconjunto de D:\", C.issubset(D))\n",
    "print(\"D es superconjunto de C:\", D.issuperset(C))"
   ]
  },
  {
   "cell_type": "markdown",
   "id": "93071c26",
   "metadata": {},
   "source": [
    "## Uso práctico en filtrado y comparación de colecciones"
   ]
  },
  {
   "cell_type": "code",
   "execution_count": null,
   "id": "c2596e63",
   "metadata": {},
   "outputs": [],
   "source": [
    "usuarios_dia1 = {\"Ana\", \"Luis\", \"Pedro\", \"Marta\"}\n",
    "usuarios_dia2 = {\"Luis\", \"Pedro\", \"Sofía\"}\n",
    "\n",
    "print(\"Usuarios que asistieron ambos días:\", usuarios_dia1 & usuarios_dia2)\n",
    "print(\"Usuarios nuevos el segundo día:\", usuarios_dia2 - usuarios_dia1)"
   ]
  },
  {
   "cell_type": "markdown",
   "id": "bbe7be7f",
   "metadata": {},
   "source": [
    "## Ejercicios prácticos"
   ]
  },
  {
   "cell_type": "code",
   "execution_count": null,
   "id": "515e1c1d",
   "metadata": {},
   "outputs": [],
   "source": [
    "texto = \"python es un lenguaje de programación y Python es poderoso\"\n",
    "palabras_unicas = set(texto.lower().split())\n",
    "print(\"Palabras únicas:\", palabras_unicas)"
   ]
  },
  {
   "cell_type": "code",
   "execution_count": null,
   "id": "c33be031",
   "metadata": {},
   "outputs": [],
   "source": [
    "usuarios_1 = {\"Ana\", \"Carlos\", \"Daniela\"}\n",
    "usuarios_2 = {\"Carlos\", \"Daniela\", \"Esteban\"}\n",
    "usuarios_unicos = usuarios_1 | usuarios_2\n",
    "print(\"Total de usuarios únicos:\", usuarios_unicos)"
   ]
  },
  {
   "cell_type": "code",
   "execution_count": null,
   "id": "7ccb31c5",
   "metadata": {},
   "outputs": [],
   "source": [
    "frutas1 = {\"manzana\", \"plátano\", \"kiwi\"}\n",
    "frutas2 = {\"kiwi\", \"sandía\", \"naranja\"}\n",
    "print(\"Frutas comunes:\", frutas1 & frutas2)"
   ]
  }
 ],
 "metadata": {
  "language_info": {
   "name": "python"
  }
 },
 "nbformat": 4,
 "nbformat_minor": 5
}
