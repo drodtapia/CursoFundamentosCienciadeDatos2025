{
 "cells": [
  {
   "cell_type": "markdown",
   "id": "2c87a6c7",
   "metadata": {},
   "source": [
    "# Empaquetado, Desempaquetado y Compresión de Estructuras\n",
    "**Objetivo:** Aplicar técnicas avanzadas de desempaquetado de tuplas y comprensión de estructuras para optimizar la escritura de código."
   ]
  },
  {
   "cell_type": "markdown",
   "id": "18e80245",
   "metadata": {},
   "source": [
    "## Empaquetado automático de tuplas"
   ]
  },
  {
   "cell_type": "code",
   "execution_count": null,
   "id": "a339a2d1",
   "metadata": {},
   "outputs": [],
   "source": [
    "empaquetado = 1, 'Python', 3.14\n",
    "print(\"Tupla empaquetada:\", empaquetado)\n",
    "print(\"Tipo:\", type(empaquetado))"
   ]
  },
  {
   "cell_type": "markdown",
   "id": "c284c50a",
   "metadata": {},
   "source": [
    "## Desempaquetado en variables y retorno de funciones"
   ]
  },
  {
   "cell_type": "code",
   "execution_count": null,
   "id": "8d3c1ac3",
   "metadata": {},
   "outputs": [],
   "source": [
    "a, b, c = empaquetado\n",
    "print(\"a =\", a, \"b =\", b, \"c =\", c)\n",
    "\n",
    "def coordenadas():\n",
    "    return 40.7128, -74.0060\n",
    "\n",
    "lat, lon = coordenadas()\n",
    "print(\"Latitud:\", lat, \"Longitud:\", lon)"
   ]
  },
  {
   "cell_type": "markdown",
   "id": "20f203ec",
   "metadata": {},
   "source": [
    "## Desempaquetado parcial con `*`"
   ]
  },
  {
   "cell_type": "code",
   "execution_count": null,
   "id": "5c081940",
   "metadata": {},
   "outputs": [],
   "source": [
    "primero, *medio, ultimo = [1, 2, 3, 4, 5]\n",
    "print(\"Primero:\", primero)\n",
    "print(\"Medio:\", medio)\n",
    "print(\"Último:\", ultimo)"
   ]
  },
  {
   "cell_type": "markdown",
   "id": "eecda1db",
   "metadata": {},
   "source": [
    "## Compresión de listas"
   ]
  },
  {
   "cell_type": "code",
   "execution_count": null,
   "id": "f15a9307",
   "metadata": {},
   "outputs": [],
   "source": [
    "cuadrados = [x**2 for x in range(1, 6)]\n",
    "print(\"Cuadrados:\", cuadrados)"
   ]
  },
  {
   "cell_type": "markdown",
   "id": "52620fce",
   "metadata": {},
   "source": [
    "## Compresión de diccionarios"
   ]
  },
  {
   "cell_type": "code",
   "execution_count": null,
   "id": "054a6254",
   "metadata": {},
   "outputs": [],
   "source": [
    "edades = [\"Ana\", \"Luis\", \"Pedro\"]\n",
    "edad_dict = {nombre: len(nombre)*5 for nombre in edades}\n",
    "print(\"Diccionario de edades simuladas:\", edad_dict)"
   ]
  },
  {
   "cell_type": "markdown",
   "id": "a275d9c3",
   "metadata": {},
   "source": [
    "## Compresión de sets"
   ]
  },
  {
   "cell_type": "code",
   "execution_count": null,
   "id": "234bd813",
   "metadata": {},
   "outputs": [],
   "source": [
    "set_vocales = {letra for letra in 'programacion' if letra in 'aeiou'}\n",
    "print(\"Vocales únicas:\", set_vocales)"
   ]
  },
  {
   "cell_type": "markdown",
   "id": "bb73bb3f",
   "metadata": {},
   "source": [
    "## Condicionales dentro de compresiones"
   ]
  },
  {
   "cell_type": "code",
   "execution_count": null,
   "id": "81b03e74",
   "metadata": {},
   "outputs": [],
   "source": [
    "pares_cuadrados = [x**2 for x in range(10) if x % 2 == 0]\n",
    "print(\"Cuadrados de números pares:\", pares_cuadrados)"
   ]
  },
  {
   "cell_type": "markdown",
   "id": "7f367437",
   "metadata": {},
   "source": [
    "## Ejercicios prácticos"
   ]
  },
  {
   "cell_type": "code",
   "execution_count": null,
   "id": "652d8f88",
   "metadata": {},
   "outputs": [],
   "source": [
    "nombres = [\"Ana\", \"Alberto\", \"Beatriz\", \"Carlos\", \"Amanda\"]\n",
    "nombres_a = [n for n in nombres if n.startswith(\"A\")]\n",
    "print(\"Nombres que comienzan con A:\", nombres_a)"
   ]
  },
  {
   "cell_type": "code",
   "execution_count": null,
   "id": "974bfb65",
   "metadata": {},
   "outputs": [],
   "source": [
    "temperaturas_c = [0, 20, 30, 37]\n",
    "temperaturas_f = [c*9/5 + 32 for c in temperaturas_c]\n",
    "print(\"Temperaturas en Fahrenheit:\", temperaturas_f)"
   ]
  },
  {
   "cell_type": "code",
   "execution_count": null,
   "id": "62bb2612",
   "metadata": {},
   "outputs": [],
   "source": [
    "numeros = range(1, 6)\n",
    "tipo_numero = {n: ('par' if n % 2 == 0 else 'impar') for n in numeros}\n",
    "print(\"Par o impar:\", tipo_numero)"
   ]
  }
 ],
 "metadata": {
  "language_info": {
   "name": "python"
  }
 },
 "nbformat": 4,
 "nbformat_minor": 5
}
