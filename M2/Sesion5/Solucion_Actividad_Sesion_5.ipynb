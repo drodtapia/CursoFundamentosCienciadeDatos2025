{
 "cells": [
  {
   "cell_type": "markdown",
   "id": "536e17cb",
   "metadata": {},
   "source": [
    "# Actividad Práctica Sesión 5\n",
    "Gestión de productos e inventario para una tienda en línea utilizando estructuras de datos en Python."
   ]
  },
  {
   "cell_type": "markdown",
   "id": "e2c7806a",
   "metadata": {},
   "source": [
    "## 1. Lista de productos"
   ]
  },
  {
   "cell_type": "code",
   "execution_count": null,
   "id": "335b49d6",
   "metadata": {},
   "outputs": [],
   "source": [
    "productos = [\"Laptop\", \"Camiseta\", \"Pan\", \"Auriculares\", \"Libro\"]\n",
    "print(\"Productos:\", productos)"
   ]
  },
  {
   "cell_type": "markdown",
   "id": "d7410c5b",
   "metadata": {},
   "source": [
    "## 2. Agregar productos y generar productos destacados"
   ]
  },
  {
   "cell_type": "code",
   "execution_count": null,
   "id": "2e803851",
   "metadata": {},
   "outputs": [],
   "source": [
    "productos.extend([\"Teclado\", \"Galletas\"])\n",
    "productos_destacados = productos[:3]\n",
    "print(\"Productos actualizados:\", productos)\n",
    "print(\"Productos destacados:\", productos_destacados)"
   ]
  },
  {
   "cell_type": "markdown",
   "id": "fc0107cd",
   "metadata": {},
   "source": [
    "## 3. Diccionario inventario"
   ]
  },
  {
   "cell_type": "code",
   "execution_count": null,
   "id": "84ff124e",
   "metadata": {},
   "outputs": [],
   "source": [
    "inventario = {\n",
    "    \"Laptop\": 10,\n",
    "    \"Camiseta\": 25,\n",
    "    \"Pan\": 50,\n",
    "    \"Auriculares\": 15,\n",
    "    \"Libro\": 30\n",
    "}\n",
    "print(\"Inventario:\", inventario)"
   ]
  },
  {
   "cell_type": "markdown",
   "id": "af73e498",
   "metadata": {},
   "source": [
    "## 4. Agregar nuevo producto y mostrar stock de uno existente"
   ]
  },
  {
   "cell_type": "code",
   "execution_count": null,
   "id": "e02458c3",
   "metadata": {},
   "outputs": [],
   "source": [
    "inventario[\"Galletas\"] = 60\n",
    "print(\"Stock de Pan:\", inventario[\"Pan\"])"
   ]
  },
  {
   "cell_type": "markdown",
   "id": "ef4bb4c7",
   "metadata": {},
   "source": [
    "## 5. Tupla de categorías"
   ]
  },
  {
   "cell_type": "code",
   "execution_count": null,
   "id": "e4580760",
   "metadata": {},
   "outputs": [],
   "source": [
    "categorias = (\"Electrónica\", \"Ropa\", \"Alimentos\")\n",
    "print(\"Segunda categoría:\", categorias[1])"
   ]
  },
  {
   "cell_type": "markdown",
   "id": "da53b9ee",
   "metadata": {},
   "source": [
    "## 6. Empaquetado y desempaquetado de tuplas"
   ]
  },
  {
   "cell_type": "code",
   "execution_count": null,
   "id": "580ff0bc",
   "metadata": {},
   "outputs": [],
   "source": [
    "cat1, cat2, cat3 = categorias\n",
    "print(\"Categoría 1:\", cat1)\n",
    "print(\"Categoría 2:\", cat2)\n",
    "print(\"Categoría 3:\", cat3)"
   ]
  },
  {
   "cell_type": "markdown",
   "id": "d2968216",
   "metadata": {},
   "source": [
    "## 7. Crear set de productos únicos"
   ]
  },
  {
   "cell_type": "code",
   "execution_count": null,
   "id": "179478b2",
   "metadata": {},
   "outputs": [],
   "source": [
    "productos_unicos = set(productos)\n",
    "print(\"Productos únicos:\", productos_unicos)"
   ]
  },
  {
   "cell_type": "markdown",
   "id": "b10726c0",
   "metadata": {},
   "source": [
    "## 8. Comprensión de listas para productos en mayúsculas"
   ]
  },
  {
   "cell_type": "code",
   "execution_count": null,
   "id": "105a53fc",
   "metadata": {},
   "outputs": [],
   "source": [
    "productos_mayusculas = [producto.upper() for producto in productos]\n",
    "print(\"Productos en mayúsculas:\", productos_mayusculas)"
   ]
  }
 ],
 "metadata": {
  "language_info": {
   "name": "python"
  }
 },
 "nbformat": 4,
 "nbformat_minor": 5
}
