{
 "cells": [
  {
   "cell_type": "markdown",
   "id": "e01015e1",
   "metadata": {},
   "source": [
    "# Listas en Python – Secuencias Mutables para la Gestión de Datos\n",
    "**Objetivo:** Dominar la creación, manipulación y aplicación de listas en Python para resolver problemas de datos ordenados y dinámicos."
   ]
  },
  {
   "cell_type": "markdown",
   "id": "cec4408a",
   "metadata": {},
   "source": [
    "## ¿Qué es una lista? Características y Mutabilidad\n",
    "Una lista es una secuencia ordenada y mutable que puede almacenar elementos de cualquier tipo de dato.\n",
    "Se define con corchetes `[]` y permite operaciones como agregar, modificar y eliminar elementos."
   ]
  },
  {
   "cell_type": "markdown",
   "id": "6038be6c",
   "metadata": {},
   "source": [
    "## Crear listas con distintos tipos de datos"
   ]
  },
  {
   "cell_type": "code",
   "execution_count": null,
   "id": "51eedff0",
   "metadata": {},
   "outputs": [],
   "source": [
    "lista_mixta = [42, 'texto', 3.14, True]\n",
    "print(lista_mixta)"
   ]
  },
  {
   "cell_type": "markdown",
   "id": "cf4eece5",
   "metadata": {},
   "source": [
    "## Acceso por índice y por rango (slicing)"
   ]
  },
  {
   "cell_type": "code",
   "execution_count": null,
   "id": "3e44d629",
   "metadata": {},
   "outputs": [],
   "source": [
    "frutas = ['manzana', 'plátano', 'cereza', 'durazno']\n",
    "print(\"Primera fruta:\", frutas[0])\n",
    "print(\"Últimas dos frutas:\", frutas[2:4])"
   ]
  },
  {
   "cell_type": "markdown",
   "id": "5d348de9",
   "metadata": {},
   "source": [
    "## Métodos principales de listas"
   ]
  },
  {
   "cell_type": "code",
   "execution_count": null,
   "id": "ddddf268",
   "metadata": {},
   "outputs": [],
   "source": [
    "numeros = [1, 2, 3]\n",
    "numeros.append(4)\n",
    "numeros.insert(1, 10)\n",
    "numeros.remove(2)\n",
    "ultimo = numeros.pop()\n",
    "print(\"Lista actual:\", numeros)\n",
    "print(\"Elemento eliminado:\", ultimo)\n",
    "print(\"Índice de 10:\", numeros.index(10))"
   ]
  },
  {
   "cell_type": "markdown",
   "id": "54c68a86",
   "metadata": {},
   "source": [
    "## Ordenamiento de listas"
   ]
  },
  {
   "cell_type": "code",
   "execution_count": null,
   "id": "ec296942",
   "metadata": {},
   "outputs": [],
   "source": [
    "edades = [23, 45, 18, 30]\n",
    "edades.sort()\n",
    "print(\"Edades ordenadas:\", edades)\n",
    "edades.reverse()\n",
    "print(\"Edades descendente:\", edades)"
   ]
  },
  {
   "cell_type": "markdown",
   "id": "8b88191e",
   "metadata": {},
   "source": [
    "## Listas anidadas y uso como matrices"
   ]
  },
  {
   "cell_type": "code",
   "execution_count": null,
   "id": "9a75cc21",
   "metadata": {},
   "outputs": [],
   "source": [
    "matriz = [[1, 2], [3, 4], [5, 6]]\n",
    "print(\"Elemento fila 2, columna 1:\", matriz[1][0])"
   ]
  },
  {
   "cell_type": "markdown",
   "id": "b9c9b421",
   "metadata": {},
   "source": [
    "## Interacción con cadenas: split() y join()"
   ]
  },
  {
   "cell_type": "code",
   "execution_count": null,
   "id": "5b9b4b0a",
   "metadata": {},
   "outputs": [],
   "source": [
    "texto = \"uno,dos,tres\"\n",
    "lista_texto = texto.split(',')\n",
    "print(\"Lista generada:\", lista_texto)\n",
    "texto_unido = '-'.join(lista_texto)\n",
    "print(\"Texto unido con guión:\", texto_unido)"
   ]
  },
  {
   "cell_type": "markdown",
   "id": "3abc0779",
   "metadata": {},
   "source": [
    "## Recorridos con for y operaciones sobre listas"
   ]
  },
  {
   "cell_type": "code",
   "execution_count": null,
   "id": "e7641d58",
   "metadata": {},
   "outputs": [],
   "source": [
    "colores = ['rojo', 'verde', 'azul']\n",
    "for color in colores:\n",
    "    print(f\"Color: {color}\")\n",
    "\n",
    "longitudes = [len(color) for color in colores]\n",
    "print(\"Longitudes de cada color:\", longitudes)"
   ]
  },
  {
   "cell_type": "markdown",
   "id": "bb9b74b8",
   "metadata": {},
   "source": [
    "## Ejercicios prácticos"
   ]
  },
  {
   "cell_type": "code",
   "execution_count": null,
   "id": "8e650ac6",
   "metadata": {},
   "outputs": [],
   "source": [
    "notas = [5.5, 6.0, 4.8, 7.0]\n",
    "promedio = sum(notas) / len(notas)\n",
    "print(\"Promedio:\", round(promedio, 2))"
   ]
  },
  {
   "cell_type": "code",
   "execution_count": null,
   "id": "a1511e09",
   "metadata": {},
   "outputs": [],
   "source": [
    "busqueda = 'cereza'\n",
    "if busqueda in frutas:\n",
    "    print(f\"'{busqueda}' está en la lista de frutas\")\n",
    "else:\n",
    "    print(f\"'{busqueda}' no se encuentra\")"
   ]
  },
  {
   "cell_type": "code",
   "execution_count": null,
   "id": "7a9067cf",
   "metadata": {},
   "outputs": [],
   "source": [
    "duplicados = [1, 2, 2, 3, 4, 4, 5]\n",
    "sin_duplicados = list(set(duplicados))\n",
    "print(\"Lista sin duplicados:\", sin_duplicados)"
   ]
  }
 ],
 "metadata": {
  "language_info": {
   "name": "python"
  }
 },
 "nbformat": 4,
 "nbformat_minor": 5
}
