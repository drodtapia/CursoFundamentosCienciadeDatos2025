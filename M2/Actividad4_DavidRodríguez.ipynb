{
 "cells": [
  {
   "cell_type": "code",
   "execution_count": 6,
   "id": "c6082370",
   "metadata": {},
   "outputs": [
    {
     "name": "stdout",
     "output_type": "stream",
     "text": [
      "Área del rectángulo: 49\n",
      "Circunferencia del círculo: 9.864600932271951\n",
      "Promedio : 55.0\n",
      "Promedio Avanzado: 55\n",
      "Números aleatorios: [96, 7, 52, 10, 55, 21, 27, 20, 29, 45, 42, 94]\n"
     ]
    }
   ],
   "source": [
    "#Librerías\n",
    "import math\n",
    "from statistics import mean\n",
    "import random\n",
    "\n",
    "# 1.  Área de un rectángulo\n",
    "def calcular_area_rectangulo(largo, ancho):\n",
    "    return largo * ancho\n",
    "\n",
    "# 2. Circunferencia de un círculo con math\n",
    "\n",
    "def calcular_circunferencia(radio):\n",
    "    pi = math.pi\n",
    "    return 2 * pi * radio\n",
    "\n",
    "# 3. Promedio\n",
    "def calcular_promedio(lista):\n",
    "    return sum(lista) / len(lista)\n",
    "\n",
    "# 4. Calcular el promedio con statistics\n",
    "\n",
    "def calcular_promedio_avanzado(lista_numeros):\n",
    "    return mean(lista_numeros)\n",
    "\n",
    "# 5. Generar números aleatorios con random\n",
    "\n",
    "def generar_numeros_aleatorios(cantidad, limite):\n",
    "    return [random.randint(1, limite) for _ in range(cantidad)]\n",
    "\n",
    "# 6. Programa que utiliza funciones anteriores\n",
    "\n",
    "# Calcular área de un rectángulo\n",
    "area = calcular_area_rectangulo(7, 7)\n",
    "print(\"Área del rectángulo:\", area)\n",
    "\n",
    "# Calcular circunferencia de un círculo\n",
    "circunferencia = calcular_circunferencia(1.57)\n",
    "print(\"Circunferencia del círculo:\", circunferencia)\n",
    "\n",
    "# Calcular promedio de una lista\n",
    "lista_numeros = [11, 22, 33, 44, 55, 66, 77, 88, 99]\n",
    "promedio = calcular_promedio(lista_numeros)\n",
    "print(\"Promedio :\", promedio)\n",
    "\n",
    "# Calcular promedio avanzado\n",
    "promedio_avanzado = calcular_promedio_avanzado(lista_numeros)\n",
    "print(\"Promedio Avanzado:\", promedio_avanzado)\n",
    "\n",
    "# Generar lista de números aleatorios\n",
    "numeros_aleatorios = generar_numeros_aleatorios(12, 99)\n",
    "print(\"Números aleatorios:\", numeros_aleatorios)\n"
   ]
  }
 ],
 "metadata": {
  "kernelspec": {
   "display_name": "Python 3",
   "language": "python",
   "name": "python3"
  },
  "language_info": {
   "codemirror_mode": {
    "name": "ipython",
    "version": 3
   },
   "file_extension": ".py",
   "mimetype": "text/x-python",
   "name": "python",
   "nbconvert_exporter": "python",
   "pygments_lexer": "ipython3",
   "version": "3.12.4"
  }
 },
 "nbformat": 4,
 "nbformat_minor": 5
}
