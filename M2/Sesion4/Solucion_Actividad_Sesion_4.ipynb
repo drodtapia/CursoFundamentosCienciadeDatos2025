{
 "cells": [
  {
   "cell_type": "markdown",
   "id": "4b24b432",
   "metadata": {},
   "source": [
    "# Solución: Actividad Práctica Sesión 4\n",
    "Desarrollo de funciones reutilizables solicitadas por la empresa **DataPro Solutions**."
   ]
  },
  {
   "cell_type": "markdown",
   "id": "b1c6f133",
   "metadata": {},
   "source": [
    "## 1. Función `calcular_area_rectangulo`"
   ]
  },
  {
   "cell_type": "code",
   "execution_count": null,
   "id": "5e7d3dbe",
   "metadata": {},
   "outputs": [],
   "source": [
    "def calcular_area_rectangulo(largo, ancho):\n",
    "    return largo * ancho"
   ]
  },
  {
   "cell_type": "markdown",
   "id": "cd11642b",
   "metadata": {},
   "source": [
    "## 2. Función `calcular_circunferencia` usando `math.pi`"
   ]
  },
  {
   "cell_type": "code",
   "execution_count": null,
   "id": "744b7c0f",
   "metadata": {},
   "outputs": [],
   "source": [
    "import math\n",
    "\n",
    "def calcular_circunferencia(radio):\n",
    "    return 2 * math.pi * radio"
   ]
  },
  {
   "cell_type": "markdown",
   "id": "8b0c62ad",
   "metadata": {},
   "source": [
    "## 3. Función `calcular_promedio` sin librerías"
   ]
  },
  {
   "cell_type": "code",
   "execution_count": null,
   "id": "655e0c40",
   "metadata": {},
   "outputs": [],
   "source": [
    "def calcular_promedio(lista):\n",
    "    if len(lista) == 0:\n",
    "        return 0\n",
    "    return sum(lista) / len(lista)"
   ]
  },
  {
   "cell_type": "markdown",
   "id": "c1d1197f",
   "metadata": {},
   "source": [
    "## 4. Función `calcular_promedio_avanzado` usando `statistics.mean`"
   ]
  },
  {
   "cell_type": "code",
   "execution_count": null,
   "id": "fac5b2c5",
   "metadata": {},
   "outputs": [],
   "source": [
    "from statistics import mean\n",
    "\n",
    "def calcular_promedio_avanzado(lista):\n",
    "    return mean(lista)"
   ]
  },
  {
   "cell_type": "markdown",
   "id": "441dcf0d",
   "metadata": {},
   "source": [
    "## 5. Función `generar_numeros_aleatorios` con `random`"
   ]
  },
  {
   "cell_type": "code",
   "execution_count": null,
   "id": "5724e8dc",
   "metadata": {},
   "outputs": [],
   "source": [
    "import random\n",
    "\n",
    "def generar_numeros_aleatorios(cantidad, limite):\n",
    "    return [random.randint(1, limite) for _ in range(cantidad)]"
   ]
  },
  {
   "cell_type": "markdown",
   "id": "72b369e0",
   "metadata": {},
   "source": [
    "## 6. Programa que utiliza todas las funciones"
   ]
  },
  {
   "cell_type": "code",
   "execution_count": null,
   "id": "746b85db",
   "metadata": {},
   "outputs": [],
   "source": [
    "# Pruebas\n",
    "largo = 10\n",
    "ancho = 5\n",
    "radio = 7\n",
    "numeros = [10, 20, 30, 40, 50]\n",
    "\n",
    "print(\"Área del rectángulo:\", calcular_area_rectangulo(largo, ancho))\n",
    "print(\"Circunferencia del círculo:\", calcular_circunferencia(radio))\n",
    "print(\"Promedio básico:\", calcular_promedio(numeros))\n",
    "print(\"Promedio avanzado:\", calcular_promedio_avanzado(numeros))\n",
    "print(\"Lista aleatoria:\", generar_numeros_aleatorios(5, 100))"
   ]
  }
 ],
 "metadata": {
  "language_info": {
   "name": "python"
  }
 },
 "nbformat": 4,
 "nbformat_minor": 5
}
