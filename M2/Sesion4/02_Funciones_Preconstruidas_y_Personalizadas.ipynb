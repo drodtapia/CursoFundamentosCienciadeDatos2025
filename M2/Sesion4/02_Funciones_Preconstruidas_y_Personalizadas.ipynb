{
 "cells": [
  {
   "cell_type": "markdown",
   "id": "3b914508",
   "metadata": {},
   "source": [
    "# Funciones Preconstruidas y Personalizadas en Python\n",
    "**Objetivo:** Identificar y aplicar funciones preconstruidas de Python, y desarrollar funciones personalizadas con lógica adaptativa."
   ]
  },
  {
   "cell_type": "markdown",
   "id": "7b352016",
   "metadata": {},
   "source": [
    "## 1. Funciones Integradas en Python"
   ]
  },
  {
   "cell_type": "code",
   "execution_count": null,
   "id": "1651d7a8",
   "metadata": {},
   "outputs": [],
   "source": [
    "# print()\n",
    "print(\"Hola, mundo!\")\n",
    "\n",
    "# len()\n",
    "longitud = len(\"Python\")\n",
    "print(\"Longitud de 'Python':\", longitud)\n",
    "\n",
    "# type()\n",
    "print(\"Tipo de dato de 3.14:\", type(3.14))\n",
    "\n",
    "# round()\n",
    "print(\"Redondeo de 3.14159 a 2 decimales:\", round(3.14159, 2))\n",
    "\n",
    "# input() (solo ejemplo comentado)\n",
    "# nombre = input(\"¿Cuál es tu nombre? \")\n",
    "# print(\"Hola,\", nombre)"
   ]
  },
  {
   "cell_type": "markdown",
   "id": "3657ab0c",
   "metadata": {},
   "source": [
    "## 2. Comparación: Función Integrada vs Función Personalizada"
   ]
  },
  {
   "cell_type": "code",
   "execution_count": null,
   "id": "58796bd1",
   "metadata": {},
   "outputs": [],
   "source": [
    "def mi_len(cadena):\n",
    "    contador = 0\n",
    "    for _ in cadena:\n",
    "        contador += 1\n",
    "    return contador\n",
    "\n",
    "print(\"Usando len():\", len(\"Hola\"))\n",
    "print(\"Usando mi_len():\", mi_len(\"Hola\"))"
   ]
  },
  {
   "cell_type": "markdown",
   "id": "25499fb7",
   "metadata": {},
   "source": [
    "## 3. Uso de Condicionales en Funciones"
   ]
  },
  {
   "cell_type": "code",
   "execution_count": null,
   "id": "509489f9",
   "metadata": {},
   "outputs": [],
   "source": [
    "def clasificar_edad(edad):\n",
    "    if edad < 18:\n",
    "        return \"Menor de edad\"\n",
    "    elif edad < 65:\n",
    "        return \"Adulto\"\n",
    "    else:\n",
    "        return \"Adulto mayor\"\n",
    "\n",
    "print(\"Edad 16:\", clasificar_edad(16))\n",
    "print(\"Edad 30:\", clasificar_edad(30))\n",
    "print(\"Edad 70:\", clasificar_edad(70))"
   ]
  },
  {
   "cell_type": "markdown",
   "id": "b84d49ae",
   "metadata": {},
   "source": [
    "## 4. Funciones con Múltiples Parámetros"
   ]
  },
  {
   "cell_type": "code",
   "execution_count": null,
   "id": "32ebba12",
   "metadata": {},
   "outputs": [],
   "source": [
    "def calcular_precio_total(precio_unitario, cantidad, descuento):\n",
    "    subtotal = precio_unitario * cantidad\n",
    "    total = subtotal - descuento\n",
    "    return total\n",
    "\n",
    "print(\"Precio total:\", calcular_precio_total(1000, 3, 500))"
   ]
  },
  {
   "cell_type": "markdown",
   "id": "f17eddef",
   "metadata": {},
   "source": [
    "## 5. Funciones sin retorno vs con retorno"
   ]
  },
  {
   "cell_type": "code",
   "execution_count": null,
   "id": "7bbba7e5",
   "metadata": {},
   "outputs": [],
   "source": [
    "# Función sin retorno\n",
    "def saludar():\n",
    "    print(\"¡Hola desde una función sin retorno!\")\n",
    "\n",
    "# Función con retorno\n",
    "def obtener_saludo():\n",
    "    return \"¡Hola desde una función con retorno!\"\n",
    "\n",
    "saludar()\n",
    "mensaje = obtener_saludo()\n",
    "print(mensaje)"
   ]
  },
  {
   "cell_type": "markdown",
   "id": "d530ed9f",
   "metadata": {},
   "source": [
    "## 6. Actividades prácticas"
   ]
  },
  {
   "cell_type": "code",
   "execution_count": null,
   "id": "632216b5",
   "metadata": {},
   "outputs": [],
   "source": [
    "def validar_edad(edad):\n",
    "    if edad < 0:\n",
    "        return \"Edad no válida\"\n",
    "    elif edad < 18:\n",
    "        return \"Menor de edad\"\n",
    "    else:\n",
    "        return \"Mayor de edad\"\n",
    "\n",
    "print(validar_edad(17))\n",
    "print(validar_edad(-2))\n",
    "print(validar_edad(20))"
   ]
  },
  {
   "cell_type": "code",
   "execution_count": null,
   "id": "62b9e7db",
   "metadata": {},
   "outputs": [],
   "source": [
    "def celsius_a_fahrenheit(c):\n",
    "    return (c * 9/5) + 32\n",
    "\n",
    "print(\"25°C en Fahrenheit:\", celsius_a_fahrenheit(25))"
   ]
  },
  {
   "cell_type": "code",
   "execution_count": null,
   "id": "66c27ece",
   "metadata": {},
   "outputs": [],
   "source": [
    "def contar_pares(lista):\n",
    "    pares = 0\n",
    "    for num in lista:\n",
    "        if num % 2 == 0:\n",
    "            pares += 1\n",
    "    return pares\n",
    "\n",
    "print(\"Cantidad de pares:\", contar_pares([1, 2, 3, 4, 6, 7]))"
   ]
  }
 ],
 "metadata": {
  "language_info": {
   "name": "python"
  }
 },
 "nbformat": 4,
 "nbformat_minor": 5
}
