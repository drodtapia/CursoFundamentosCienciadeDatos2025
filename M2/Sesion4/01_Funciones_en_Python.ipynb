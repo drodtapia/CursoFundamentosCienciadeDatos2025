{
 "cells": [
  {
   "cell_type": "markdown",
   "id": "75f17767",
   "metadata": {},
   "source": [
    "# Introducción a Funciones en Python\n",
    "**Objetivo:** Comprender la definición, uso y utilidad de funciones como base de la programación modular."
   ]
  },
  {
   "cell_type": "markdown",
   "id": "6dadec64",
   "metadata": {},
   "source": [
    "## 1. ¿Qué es una función? ¿Por qué usarlas?\n",
    "Una función es un bloque de código que se puede reutilizar para realizar una tarea específica. Permite organizar el código, evitar repeticiones y hacerlo más legible."
   ]
  },
  {
   "cell_type": "code",
   "execution_count": null,
   "id": "d6610b7b",
   "metadata": {},
   "outputs": [],
   "source": [
    "print(\"¡Hola, mundo!\")  # Código directo sin función"
   ]
  },
  {
   "cell_type": "markdown",
   "id": "11f0be6d",
   "metadata": {},
   "source": [
    "## 2. Sintaxis de una función con `def`"
   ]
  },
  {
   "cell_type": "code",
   "execution_count": null,
   "id": "0f200002",
   "metadata": {},
   "outputs": [],
   "source": [
    "def saludar():\n",
    "    print(\"Hola desde una función.\")\n",
    "\n",
    "saludar()"
   ]
  },
  {
   "cell_type": "markdown",
   "id": "dc89ea96",
   "metadata": {},
   "source": [
    "## 3. Parámetros y argumentos"
   ]
  },
  {
   "cell_type": "code",
   "execution_count": null,
   "id": "f473df8a",
   "metadata": {},
   "outputs": [],
   "source": [
    "def saludar_nombre(nombre):\n",
    "    print(f\"Hola, {nombre}!\")\n",
    "\n",
    "saludar_nombre(\"Bastián\")\n",
    "saludar_nombre(\"Ana\")"
   ]
  },
  {
   "cell_type": "markdown",
   "id": "0443d7e3",
   "metadata": {},
   "source": [
    "## 4. Uso de `return`"
   ]
  },
  {
   "cell_type": "code",
   "execution_count": null,
   "id": "b366d4a4",
   "metadata": {},
   "outputs": [],
   "source": [
    "def cuadrado(numero):\n",
    "    return numero ** 2\n",
    "\n",
    "resultado = cuadrado(5)\n",
    "print(\"El cuadrado de 5 es:\", resultado)"
   ]
  },
  {
   "cell_type": "markdown",
   "id": "50d8a164",
   "metadata": {},
   "source": [
    "## 5. Reutilización de funciones"
   ]
  },
  {
   "cell_type": "code",
   "execution_count": null,
   "id": "2d14f422",
   "metadata": {},
   "outputs": [],
   "source": [
    "def convertir_a_dolares(pesos, tasa_cambio):\n",
    "    return pesos / tasa_cambio\n",
    "\n",
    "print(\"10000 CLP en USD:\", convertir_a_dolares(10000, 890))\n",
    "print(\"20000 CLP en USD:\", convertir_a_dolares(20000, 890))"
   ]
  },
  {
   "cell_type": "markdown",
   "id": "962a766d",
   "metadata": {},
   "source": [
    "## 6. Buenas prácticas de nombrado\n",
    "Nombres claros, en minúsculas y separados por guión bajo (`snake_case`).\n",
    "Usar verbos si la función realiza acciones (ej: `calcular_total`).\n",
    "Que el nombre indique lo que hace."
   ]
  },
  {
   "cell_type": "code",
   "execution_count": null,
   "id": "3d51c3e5",
   "metadata": {},
   "outputs": [],
   "source": [
    "def calcular_area_triangulo(base, altura):\n",
    "    return (base * altura) / 2\n",
    "\n",
    "print(\"Área del triángulo:\", calcular_area_triangulo(10, 5))"
   ]
  },
  {
   "cell_type": "markdown",
   "id": "f63133b8",
   "metadata": {},
   "source": [
    "## 7. Ejercicios guiados"
   ]
  },
  {
   "cell_type": "code",
   "execution_count": null,
   "id": "435f3acd",
   "metadata": {},
   "outputs": [],
   "source": [
    "def sumar(a, b):\n",
    "    return a + b\n",
    "\n",
    "print(\"Suma de 3 + 4:\", sumar(3, 4))"
   ]
  },
  {
   "cell_type": "code",
   "execution_count": null,
   "id": "30a07e83",
   "metadata": {},
   "outputs": [],
   "source": [
    "def multiplicar_tres(a, b, c):\n",
    "    return a * b * c\n",
    "\n",
    "print(\"Multiplicación de 2 * 3 * 4:\", multiplicar_tres(2, 3, 4))"
   ]
  },
  {
   "cell_type": "code",
   "execution_count": null,
   "id": "5c343684",
   "metadata": {},
   "outputs": [],
   "source": [
    "def es_par(numero):\n",
    "    if numero % 2 == 0:\n",
    "        return \"Es par\"\n",
    "    else:\n",
    "        return \"Es impar\"\n",
    "\n",
    "print(\"7:\", es_par(7))\n",
    "print(\"8:\", es_par(8))"
   ]
  }
 ],
 "metadata": {
  "language_info": {
   "name": "python"
  }
 },
 "nbformat": 4,
 "nbformat_minor": 5
}
