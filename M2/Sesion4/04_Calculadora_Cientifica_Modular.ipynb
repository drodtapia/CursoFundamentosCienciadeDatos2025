{
 "cells": [
  {
   "cell_type": "markdown",
   "id": "8d105fc1",
   "metadata": {},
   "source": [
    "# Proyecto Integrador - Calculadora Científica Modular\n",
    "**Objetivo:** Aplicar funciones personalizadas y módulos importados en la construcción de una herramienta funcional."
   ]
  },
  {
   "cell_type": "markdown",
   "id": "adb08d36",
   "metadata": {},
   "source": [
    "## Introducción\n",
    "En este proyecto, vamos a construir una calculadora científica modular que combine funciones personalizadas con módulos estándar como `math` y `statistics`. El objetivo es reutilizar código de forma ordenada y profesional."
   ]
  },
  {
   "cell_type": "markdown",
   "id": "5c261fec",
   "metadata": {},
   "source": [
    "## 1. Funciones Aritméticas"
   ]
  },
  {
   "cell_type": "code",
   "execution_count": null,
   "id": "5426122c",
   "metadata": {},
   "outputs": [],
   "source": [
    "def sumar(a, b):\n",
    "    return a + b\n",
    "\n",
    "def restar(a, b):\n",
    "    return a - b\n",
    "\n",
    "def multiplicar(a, b):\n",
    "    return a * b\n",
    "\n",
    "def dividir(a, b):\n",
    "    if b != 0:\n",
    "        return a / b\n",
    "    else:\n",
    "        return \"Error: división por cero\""
   ]
  },
  {
   "cell_type": "markdown",
   "id": "f035db91",
   "metadata": {},
   "source": [
    "## 2. Funciones Estadísticas"
   ]
  },
  {
   "cell_type": "code",
   "execution_count": null,
   "id": "b7aebc27",
   "metadata": {},
   "outputs": [],
   "source": [
    "from statistics import mean, median, stdev\n",
    "\n",
    "def resumen_estadistico(lista):\n",
    "    return {\n",
    "        \"Media\": mean(lista),\n",
    "        \"Mediana\": median(lista),\n",
    "        \"Desviación estándar\": stdev(lista)\n",
    "    }"
   ]
  },
  {
   "cell_type": "markdown",
   "id": "ae374d16",
   "metadata": {},
   "source": [
    "## 3. Funciones Lógicas"
   ]
  },
  {
   "cell_type": "code",
   "execution_count": null,
   "id": "86ba6c46",
   "metadata": {},
   "outputs": [],
   "source": [
    "def es_par(numero):\n",
    "    return numero % 2 == 0\n",
    "\n",
    "def es_positivo(numero):\n",
    "    return numero > 0"
   ]
  },
  {
   "cell_type": "markdown",
   "id": "92332882",
   "metadata": {},
   "source": [
    "## 4. Funciones Matemáticas Avanzadas"
   ]
  },
  {
   "cell_type": "code",
   "execution_count": null,
   "id": "b7a63c80",
   "metadata": {},
   "outputs": [],
   "source": [
    "import math\n",
    "\n",
    "def raiz_cuadrada(n):\n",
    "    return math.sqrt(n)\n",
    "\n",
    "def potencia(base, exponente):\n",
    "    return math.pow(base, exponente)\n",
    "\n",
    "def logaritmo(n):\n",
    "    if n > 0:\n",
    "        return math.log(n)\n",
    "    else:\n",
    "        return \"Error: logaritmo no definido para valores ≤ 0\""
   ]
  },
  {
   "cell_type": "markdown",
   "id": "02bc100b",
   "metadata": {},
   "source": [
    "## 5. Pruebas con Datos Reales"
   ]
  },
  {
   "cell_type": "code",
   "execution_count": null,
   "id": "73615293",
   "metadata": {},
   "outputs": [],
   "source": [
    "# Datos de prueba\n",
    "numeros = [4, 8, 15, 16, 23, 42]\n",
    "a = 12\n",
    "b = 3\n",
    "\n",
    "# Pruebas aritméticas\n",
    "print(\"Suma:\", sumar(a, b))\n",
    "print(\"División:\", dividir(a, b))\n",
    "\n",
    "# Estadísticas\n",
    "print(\"Resumen:\", resumen_estadistico(numeros))\n",
    "\n",
    "# Lógica\n",
    "print(\"¿Es 8 par?:\", es_par(8))\n",
    "print(\"¿Es -5 positivo?:\", es_positivo(-5))\n",
    "\n",
    "# Matemáticas\n",
    "print(\"Raíz de 49:\", raiz_cuadrada(49))\n",
    "print(\"2^5:\", potencia(2, 5))\n",
    "print(\"Log(100):\", logaritmo(100))"
   ]
  },
  {
   "cell_type": "markdown",
   "id": "bf0ef89a",
   "metadata": {},
   "source": [
    "## 6. Reflexión Final\n",
    "- **¿Por qué modularizamos?** Para separar responsabilidades, facilitar la lectura y evitar repetir código.\n",
    "- **¿Cómo mejora esto la mantenibilidad?** El código modular se puede actualizar, probar y escalar más fácilmente. Cada función cumple una única tarea clara y puede evolucionar sin afectar al resto del sistema."
   ]
  }
 ],
 "metadata": {
  "language_info": {
   "name": "python"
  }
 },
 "nbformat": 4,
 "nbformat_minor": 5
}
