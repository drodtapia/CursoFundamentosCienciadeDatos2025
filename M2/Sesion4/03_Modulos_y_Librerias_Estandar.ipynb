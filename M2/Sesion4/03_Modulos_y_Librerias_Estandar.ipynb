{
 "cells": [
  {
   "cell_type": "markdown",
   "id": "26cdeb49",
   "metadata": {},
   "source": [
    "# Módulos y Librerías Estándar en Python\n",
    "**Objetivo:** Comprender qué es un módulo, cómo se importa y aplicar funciones desde la librería estándar."
   ]
  },
  {
   "cell_type": "markdown",
   "id": "e0bb2244",
   "metadata": {},
   "source": [
    "## 1. ¿Qué es un módulo?\n",
    "Un módulo es un archivo que contiene código reutilizable como funciones, clases o variables. Nos permite organizar y reutilizar funcionalidades en distintos programas."
   ]
  },
  {
   "cell_type": "markdown",
   "id": "e5747bb5",
   "metadata": {},
   "source": [
    "## 2. import, from ... import, as (alias)\n",
    "Existen varias formas de importar módulos o funciones:\n",
    "- `import modulo`\n",
    "- `from modulo import funcion`\n",
    "- `import modulo as alias`"
   ]
  },
  {
   "cell_type": "code",
   "execution_count": null,
   "id": "7a99fd31",
   "metadata": {},
   "outputs": [],
   "source": [
    "import math\n",
    "print(math.sqrt(16))\n",
    "\n",
    "from statistics import mean\n",
    "print(mean([1, 2, 3]))\n",
    "\n",
    "import math as m\n",
    "print(m.pi)"
   ]
  },
  {
   "cell_type": "markdown",
   "id": "43b7fa5c",
   "metadata": {},
   "source": [
    "## 3. Introducción al módulo `math`\n",
    "Proporciona funciones matemáticas avanzadas."
   ]
  },
  {
   "cell_type": "code",
   "execution_count": null,
   "id": "f82f56f5",
   "metadata": {},
   "outputs": [],
   "source": [
    "import math\n",
    "\n",
    "print(\"Raíz cuadrada de 25:\", math.sqrt(25))\n",
    "print(\"Valor de pi:\", math.pi)\n",
    "print(\"2 elevado a 3:\", math.pow(2, 3))\n",
    "print(\"Logaritmo natural de 10:\", math.log(10))"
   ]
  },
  {
   "cell_type": "markdown",
   "id": "85adc95e",
   "metadata": {},
   "source": [
    "## 4. Introducción al módulo `statistics`\n",
    "Contiene funciones para cálculos estadísticos."
   ]
  },
  {
   "cell_type": "code",
   "execution_count": null,
   "id": "6dec5cae",
   "metadata": {},
   "outputs": [],
   "source": [
    "import statistics\n",
    "\n",
    "datos = [5, 10, 10, 15, 20]\n",
    "\n",
    "print(\"Media:\", statistics.mean(datos))\n",
    "print(\"Mediana:\", statistics.median(datos))\n",
    "print(\"Moda:\", statistics.mode(datos))\n",
    "print(\"Desviación estándar:\", statistics.stdev(datos))"
   ]
  },
  {
   "cell_type": "markdown",
   "id": "b2807e9b",
   "metadata": {},
   "source": [
    "## 5. Importar todo vs importar funciones específicas\n",
    "- `import math` te obliga a usar `math.función()`.\n",
    "- `from math import sqrt` permite usar solo `sqrt()`.\n",
    "- `import math as m` acorta los nombres."
   ]
  },
  {
   "cell_type": "code",
   "execution_count": null,
   "id": "4dc3808f",
   "metadata": {},
   "outputs": [],
   "source": [
    "from math import sqrt, pi\n",
    "print(\"Usando sqrt directamente:\", sqrt(9))\n",
    "print(\"Valor de pi:\", pi)"
   ]
  },
  {
   "cell_type": "markdown",
   "id": "9d60d178",
   "metadata": {},
   "source": [
    "## 6. Actividades prácticas"
   ]
  },
  {
   "cell_type": "code",
   "execution_count": null,
   "id": "140b6c8b",
   "metadata": {},
   "outputs": [],
   "source": [
    "from math import pi\n",
    "\n",
    "def area_circulo(radio):\n",
    "    return pi * radio ** 2\n",
    "\n",
    "print(\"Área de un círculo de radio 3:\", area_circulo(3))"
   ]
  },
  {
   "cell_type": "code",
   "execution_count": null,
   "id": "3d2f6ef4",
   "metadata": {},
   "outputs": [],
   "source": [
    "from statistics import mean, median, stdev\n",
    "\n",
    "def resumen_estadistico(lista):\n",
    "    return {\n",
    "        \"Media\": mean(lista),\n",
    "        \"Mediana\": median(lista),\n",
    "        \"Desviación estándar\": stdev(lista)\n",
    "    }\n",
    "\n",
    "numeros = [8, 10, 12, 14, 16]\n",
    "print(\"Resumen estadístico:\", resumen_estadistico(numeros))"
   ]
  }
 ],
 "metadata": {
  "language_info": {
   "name": "python"
  }
 },
 "nbformat": 4,
 "nbformat_minor": 5
}
