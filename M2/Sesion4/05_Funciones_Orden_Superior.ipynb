{
 "cells": [
  {
   "cell_type": "markdown",
   "id": "be77fc2d",
   "metadata": {},
   "source": [
    "# Funciones de Orden Superior en Python\n",
    "**Objetivo:** Comprender qué son las funciones de orden superior y cómo aplicarlas en Python."
   ]
  },
  {
   "cell_type": "markdown",
   "id": "3e9d400e",
   "metadata": {},
   "source": [
    "## ¿Qué es una función de orden superior?\n",
    "Una función de **orden superior** es una función que puede:\n",
    "- Recibir otras funciones como argumentos.\n",
    "- Retornar funciones como resultado.\n",
    "\n",
    "Esto permite mayor flexibilidad, reutilización y abstracción en la programación."
   ]
  },
  {
   "cell_type": "markdown",
   "id": "515f4633",
   "metadata": {},
   "source": [
    "## 1. Función que recibe otra función como parámetro"
   ]
  },
  {
   "cell_type": "code",
   "execution_count": null,
   "id": "658a49da",
   "metadata": {},
   "outputs": [],
   "source": [
    "def aplicar_funcion(f, valor):\n",
    "    return f(valor)\n",
    "\n",
    "# Pruebas\n",
    "print(aplicar_funcion(abs, -5))\n",
    "print(aplicar_funcion(round, 3.14159))"
   ]
  },
  {
   "cell_type": "markdown",
   "id": "a0a2bed4",
   "metadata": {},
   "source": [
    "## 2. Uso de `map()`"
   ]
  },
  {
   "cell_type": "code",
   "execution_count": null,
   "id": "f1d085a3",
   "metadata": {},
   "outputs": [],
   "source": [
    "numeros = [1, 2, 3, 4]\n",
    "cuadrados = list(map(lambda x: x**2, numeros))\n",
    "print(\"Cuadrados:\", cuadrados)"
   ]
  },
  {
   "cell_type": "markdown",
   "id": "4341370c",
   "metadata": {},
   "source": [
    "## 3. Uso de `filter()`"
   ]
  },
  {
   "cell_type": "code",
   "execution_count": null,
   "id": "146a4836",
   "metadata": {},
   "outputs": [],
   "source": [
    "pares = list(filter(lambda x: x % 2 == 0, numeros))\n",
    "print(\"Números pares:\", pares)"
   ]
  },
  {
   "cell_type": "markdown",
   "id": "3018edf4",
   "metadata": {},
   "source": [
    "## 4. Uso de `reduce()` del módulo `functools`"
   ]
  },
  {
   "cell_type": "code",
   "execution_count": null,
   "id": "16d9ec68",
   "metadata": {},
   "outputs": [],
   "source": [
    "from functools import reduce\n",
    "\n",
    "suma_total = reduce(lambda x, y: x + y, numeros)\n",
    "print(\"Suma total:\", suma_total)"
   ]
  },
  {
   "cell_type": "markdown",
   "id": "41fb9dd8",
   "metadata": {},
   "source": [
    "## 5. Función que retorna otra función"
   ]
  },
  {
   "cell_type": "code",
   "execution_count": null,
   "id": "1b4a826b",
   "metadata": {},
   "outputs": [],
   "source": [
    "def crear_multiplicador(factor):\n",
    "    def multiplicar(x):\n",
    "        return x * factor\n",
    "    return multiplicar\n",
    "\n",
    "por_dos = crear_multiplicador(2)\n",
    "por_cinco = crear_multiplicador(5)\n",
    "\n",
    "print(\"5 x 2 =\", por_dos(5))\n",
    "print(\"5 x 5 =\", por_cinco(5))"
   ]
  }
 ],
 "metadata": {
  "language_info": {
   "name": "python"
  }
 },
 "nbformat": 4,
 "nbformat_minor": 5
}
