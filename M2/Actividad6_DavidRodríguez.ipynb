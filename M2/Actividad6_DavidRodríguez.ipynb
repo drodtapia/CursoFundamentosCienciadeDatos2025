{
 "cells": [
  {
   "cell_type": "code",
   "execution_count": null,
   "id": "c6082370",
   "metadata": {},
   "outputs": [
    {
     "name": "stdout",
     "output_type": "stream",
     "text": [
      "Detalles de los libros en la biblioteca:\n",
      "Título: Sin Familia, Autor: Hector Malot, ISBN: 978-956-338-388-1\n",
      "Título: Papaíto piernas largas, Autor: Jean Webster, ISBN: 9780375868283\n"
     ]
    }
   ],
   "source": [
    "# 1 y 2.- Clase Libro: Constructor y atributos privados\n",
    "class Libro:\n",
    "    def __init__(self, titulo, autor, isbn):\n",
    "        self._titulo = titulo\n",
    "        self._autor = autor\n",
    "        self._isbn = isbn\n",
    "\n",
    "# 3.- Obtener atributos fuera de la Clase\n",
    "    def get_titulo(self):\n",
    "        return self._titulo\n",
    "\n",
    "    def get_autor(self):\n",
    "        return self._autor\n",
    "\n",
    "    def get_isbn(self):\n",
    "        return self._isbn\n",
    "\n",
    "# 4.- Metodo para retornar string con detalles del libro\n",
    "    def descripcion(self):\n",
    "        return f\"Título: {self._titulo}, Autor: {self._autor}, ISBN: {self._isbn}\"\n",
    "\n",
    "# 5.- Clase Biblioteca: Gestionar lista de libros\n",
    "class Biblioteca:\n",
    "    def __init__(self):\n",
    "        self.libros = []\n",
    "\n",
    "    def agregar_libro(self, libro):\n",
    "        self.libros.append(libro)\n",
    "\n",
    "# 6.- Metodo para mostrar la descripción de cada libro en la lista\n",
    "    def mostrar_libros(self):\n",
    "        for libro in self.libros:\n",
    "            print(libro.descripcion())\n",
    "\n",
    "# 7.- Instancia Biblioteca y agregar 2 libros\n",
    "biblioteca = Biblioteca()\n",
    "\n",
    "libro_1 = Libro(\"Sin Familia\", \"Hector Malot\", \"978-956-338-388-1\")\n",
    "libro_2 = Libro(\"Papaíto piernas largas\", \"Jean Webster\", \"9780375868283\")\n",
    "\n",
    "biblioteca.agregar_libro(libro_1)\n",
    "biblioteca.agregar_libro(libro_2)\n",
    "\n",
    "print(\"Detalles de los libros en la biblioteca:\")\n",
    "biblioteca.mostrar_libros()\n"
   ]
  }
 ],
 "metadata": {
  "kernelspec": {
   "display_name": "Python 3",
   "language": "python",
   "name": "python3"
  },
  "language_info": {
   "codemirror_mode": {
    "name": "ipython",
    "version": 3
   },
   "file_extension": ".py",
   "mimetype": "text/x-python",
   "name": "python",
   "nbconvert_exporter": "python",
   "pygments_lexer": "ipython3",
   "version": "3.12.4"
  }
 },
 "nbformat": 4,
 "nbformat_minor": 5
}
